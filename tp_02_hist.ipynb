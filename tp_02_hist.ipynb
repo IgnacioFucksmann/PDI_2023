{
 "cells": [
  {
   "cell_type": "code",
   "execution_count": null,
   "metadata": {},
   "outputs": [],
   "source": [
    "im1=cv.imread(\"imagenes/imagenA.tif\",cv.IMREAD_GRAYSCALE)\n",
    "im2=cv.imread(\"imagenes/imagenB.tif\",cv.IMREAD_GRAYSCALE)\n",
    "im3=cv.imread(\"imagenes/imagenC.tif\",cv.IMREAD_GRAYSCALE)\n",
    "im4=cv.imread(\"imagenes/imagenD.tif\",cv.IMREAD_GRAYSCALE)\n",
    "im5=cv.imread(\"imagenes/imagenE.tif\",cv.IMREAD_GRAYSCALE)\n",
    "\n",
    "plt.close()\n",
    "fig,ax = plt.subplots(2,5,figsize=(10,10))\n",
    "ax[0,0].imshow(im1,cmap=\"gray\",vmin=0,vmax=255)\n",
    "ax[0,1].imshow(im2,cmap=\"gray\",vmin=0,vmax=255)\n",
    "ax[0,2].imshow(im3,cmap=\"gray\",vmin=0,vmax=255)\n",
    "ax[0,3].imshow(im4,cmap=\"gray\",vmin=0,vmax=255)\n",
    "ax[0,4].imshow(im5,cmap=\"gray\",vmin=0,vmax=255)\n",
    "plt.show()\n",
    "\n",
    "#predicciones\n",
    "#1-C\n",
    "#4-B\n",
    "#3-E\n",
    "#2-A\n",
    "#5-D\n",
    "\n",
    "ax[1,0].hist(im1.ravel(),256,[0,256])\n",
    "ax[1,1].hist(im2.ravel(),256,[0,256])\n",
    "ax[1,2].hist(im3.ravel(),256,[0,256])\n",
    "ax[1,3].hist(im4.ravel(),256,[0,256])\n",
    "ax[1,4].hist(im5.ravel(),256,[0,256])\n"
   ]
  },
  {
   "cell_type": "code",
   "execution_count": null,
   "metadata": {},
   "outputs": [],
   "source": [
    "imgFlag01 = cv.imread(\"imagenes/Busqueda_histograma/Bandera01.jpg\",cv.IMREAD_GRAYSCALE)\n",
    "imgFlag02 = cv.imread(\"imagenes/Busqueda_histograma/Bandera02.jpg\",cv.IMREAD_GRAYSCALE)\n",
    "imgFlag03 = cv.imread(\"imagenes/Busqueda_histograma/Bandera03.jpg\",cv.IMREAD_GRAYSCALE)\n",
    "imgFlag04 = cv.imread(\"imagenes/Busqueda_histograma/Bandera04.jpg\",cv.IMREAD_GRAYSCALE)\n",
    "imgFlag05 = cv.imread(\"imagenes/Busqueda_histograma/Bandera05.jpg\",cv.IMREAD_GRAYSCALE)\n",
    "imgCartoons01 = cv.imread(\"imagenes/Busqueda_histograma/Caricaturas01.jpg\",cv.IMREAD_GRAYSCALE)\n",
    "imgCartoons02 = cv.imread(\"imagenes/Busqueda_histograma/Caricaturas02.jpg\",cv.IMREAD_GRAYSCALE)\n",
    "imgCartoons03 = cv.imread(\"imagenes/Busqueda_histograma/Caricaturas03.jpg\",cv.IMREAD_GRAYSCALE)\n",
    "imgCartoons04 = cv.imread(\"imagenes/Busqueda_histograma/Caricaturas04.jpg\",cv.IMREAD_GRAYSCALE)\n",
    "imgCartoons05 = cv.imread(\"imagenes/Busqueda_histograma/Caricaturas05.jpg\",cv.IMREAD_GRAYSCALE)\n",
    "imgLandscape01 = cv.imread(\"imagenes/Busqueda_histograma/Paisaje01.jpg\",cv.IMREAD_GRAYSCALE)\n",
    "imgLandscape02 = cv.imread(\"imagenes/Busqueda_histograma/Paisaje02.jpg\",cv.IMREAD_GRAYSCALE)\n",
    "imgLandscape03 = cv.imread(\"imagenes/Busqueda_histograma/Paisaje03.jpg\",cv.IMREAD_GRAYSCALE)\n",
    "imgLandscape04 = cv.imread(\"imagenes/Busqueda_histograma/Paisaje04.jpg\",cv.IMREAD_GRAYSCALE)\n",
    "imgLandscape05 = cv.imread(\"imagenes/Busqueda_histograma/Paisaje05.jpg\",cv.IMREAD_GRAYSCALE)\n",
    "imgCharacter01 = cv.imread(\"imagenes/Busqueda_histograma/Personaje01.jpg\",cv.IMREAD_GRAYSCALE)\n",
    "imgCharacter02 = cv.imread(\"imagenes/Busqueda_histograma/Personaje02.jpg\",cv.IMREAD_GRAYSCALE)\n",
    "imgCharacter03 = cv.imread(\"imagenes/Busqueda_histograma/Personaje03.jpg\",cv.IMREAD_GRAYSCALE)\n",
    "imgCharacter04 = cv.imread(\"imagenes/Busqueda_histograma/Personaje04.jpg\",cv.IMREAD_GRAYSCALE)\n",
    "imgCharacter05 = cv.imread(\"imagenes/Busqueda_histograma/Personaje05.jpg\",cv.IMREAD_GRAYSCALE)\n",
    "\n",
    "fig, ax = plt.subplots(nrows=4, ncols=5, figsize=(15,15)) \n",
    "ax[0,0].imshow(imgFlag01,cmap=\"gray\",vmin=0,vmax=255)\n",
    "ax[0,1].imshow(imgFlag02,cmap=\"gray\",vmin=0,vmax=255)\n",
    "ax[0,2].imshow(imgFlag03,cmap=\"gray\",vmin=0,vmax=255)\n",
    "ax[0,3].imshow(imgFlag04,cmap=\"gray\",vmin=0,vmax=255)\n",
    "ax[0,4].imshow(imgFlag05,cmap=\"gray\",vmin=0,vmax=255)\n",
    "ax[1,0].imshow(imgCartoons01,cmap=\"gray\",vmin=0,vmax=255)\n",
    "ax[1,1].imshow(imgCartoons02,cmap=\"gray\",vmin=0,vmax=255)\n",
    "ax[1,2].imshow(imgCartoons03,cmap=\"gray\",vmin=0,vmax=255)\n",
    "ax[1,3].imshow(imgCartoons04,cmap=\"gray\",vmin=0,vmax=255)\n",
    "ax[1,4].imshow(imgCartoons05,cmap=\"gray\",vmin=0,vmax=255)\n",
    "ax[2,0].imshow(imgLandscape01,cmap=\"gray\",vmin=0,vmax=255)\n",
    "ax[2,1].imshow(imgLandscape02,cmap=\"gray\",vmin=0,vmax=255)\n",
    "ax[2,2].imshow(imgLandscape03,cmap=\"gray\",vmin=0,vmax=255)\n",
    "ax[2,3].imshow(imgLandscape04,cmap=\"gray\",vmin=0,vmax=255)\n",
    "ax[2,4].imshow(imgLandscape05,cmap=\"gray\",vmin=0,vmax=255)\n",
    "ax[3,0].imshow(imgCharacter01,cmap=\"gray\",vmin=0,vmax=255)\n",
    "ax[3,1].imshow(imgCharacter02,cmap=\"gray\",vmin=0,vmax=255)\n",
    "ax[3,2].imshow(imgCharacter03,cmap=\"gray\",vmin=0,vmax=255)\n",
    "ax[3,3].imshow(imgCharacter04,cmap=\"gray\",vmin=0,vmax=255)\n",
    "ax[3,4].imshow(imgCharacter05,cmap=\"gray\",vmin=0,vmax=255)\n",
    "\n",
    "plt.show()"
   ]
  },
  {
   "cell_type": "code",
   "execution_count": null,
   "metadata": {},
   "outputs": [],
   "source": [
    "print(correWrapper(imgCartoons02))\n",
    "print(correWrapper(imgCharacter01))\n",
    "print(correWrapper(imgLandscape04))\n",
    "print(correWrapper(imgFlag03))"
   ]
  }
 ],
 "metadata": {
  "kernelspec": {
   "display_name": "pdi",
   "language": "python",
   "name": "python3"
  },
  "language_info": {
   "codemirror_mode": {
    "name": "ipython",
    "version": 3
   },
   "file_extension": ".py",
   "mimetype": "text/x-python",
   "name": "python",
   "nbconvert_exporter": "python",
   "pygments_lexer": "ipython3",
   "version": "3.11.0"
  },
  "orig_nbformat": 4
 },
 "nbformat": 4,
 "nbformat_minor": 2
}
