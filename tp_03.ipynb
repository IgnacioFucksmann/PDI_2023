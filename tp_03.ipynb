{
 "cells": [
  {
   "cell_type": "code",
   "execution_count": 1,
   "metadata": {},
   "outputs": [
    {
     "ename": "NameError",
     "evalue": "name 'cv' is not defined",
     "output_type": "error",
     "traceback": [
      "\u001b[1;31m---------------------------------------------------------------------------\u001b[0m",
      "\u001b[1;31mNameError\u001b[0m                                 Traceback (most recent call last)",
      "Cell \u001b[1;32mIn[1], line 1\u001b[0m\n\u001b[1;32m----> 1\u001b[0m img_med \u001b[39m=\u001b[39m cv\u001b[39m.\u001b[39mmedianBlur(img1,\u001b[39m5\u001b[39m)\n\u001b[0;32m      3\u001b[0m fig,ax \u001b[39m=\u001b[39m plt\u001b[39m.\u001b[39msubplots(\u001b[39m1\u001b[39m,\u001b[39m3\u001b[39m,figsize\u001b[39m=\u001b[39m(\u001b[39m20\u001b[39m,\u001b[39m20\u001b[39m))\n\u001b[0;32m      4\u001b[0m ax[\u001b[39m0\u001b[39m]\u001b[39m.\u001b[39mimshow(img1,cmap\u001b[39m=\u001b[39m\u001b[39m\"\u001b[39m\u001b[39mgray\u001b[39m\u001b[39m\"\u001b[39m,vmin\u001b[39m=\u001b[39m\u001b[39m0\u001b[39m,vmax\u001b[39m=\u001b[39m\u001b[39m255\u001b[39m)\n",
      "\u001b[1;31mNameError\u001b[0m: name 'cv' is not defined"
     ]
    }
   ],
   "source": [
    "img_med = cv.medianBlur(img1,5)\n",
    "\n",
    "fig,ax = plt.subplots(1,3,figsize=(20,20))\n",
    "ax[0].imshow(img1,cmap=\"gray\",vmin=0,vmax=255)\n",
    "ax[1].imshow(img_med,cmap=\"gray\",vmin=0,vmax=255)\n",
    "ax[2].imshow(dst,cmap=\"gray\",vmin=0,vmax=255)\n",
    "plt.show()\n"
   ]
  },
  {
   "cell_type": "code",
   "execution_count": null,
   "metadata": {},
   "outputs": [],
   "source": [
    "silla = cv.imread(\"imagenes/estanbul.tif\",cv.IMREAD_GRAYSCALE)\n",
    "\n",
    "filter_sum0 = np.array([[-1,-1,-1],[-1,8,-1],[-1,-1,-1]])\n",
    "filter_sum1 = np.array([[0,-1,0],[-1,5,-1],[0,-1,0]])\n",
    "\n",
    "silla_0 = cv.filter2D(silla,-1,filter_sum0)\n",
    "silla_1 = cv.filter2D(silla,-1,filter_sum1)\n",
    "\n",
    "fig,ax = plt.subplots(1,3,figsize=(100,100))\n",
    "ax[0].imshow(silla,cmap=\"gray\",vmin=0,vmax=255)\n",
    "ax[1].imshow(silla_0,cmap=\"gray\",vmin=0,vmax=255)\n",
    "ax[2].imshow(silla_1,cmap=\"gray\",vmin=0,vmax=255)\n",
    "plt.show()"
   ]
  },
  {
   "cell_type": "code",
   "execution_count": null,
   "metadata": {},
   "outputs": [],
   "source": [
    "esqueleto = cv.imread(\"imagenes/esqueleto.tif\",cv.IMREAD_GRAYSCALE)\n",
    "mapeo_potencia = trans_potencia(3.5)\n",
    "mapeo_log = trans_log()\n",
    "\n",
    "\n",
    "esqueleto_log = esqueleto.copy()\n",
    "esqueleto_pot = esqueleto.copy()\n",
    "esqueleto_pot[:] = mapeo_potencia[esqueleto_log[:]]\n",
    "\n",
    "filter_sum0 = np.array([[-1,-1,-1],[-1,8,-1],[-1,-1,-1]])\n",
    "filter_sum1 = np.array([[0,-1,0],[-1,5,-1],[0,-1,0]])\n",
    "\n",
    "esqueleto_pb = cv.medianBlur(esqueleto_pot,3)\n",
    "esqueleto_1 = cv.filter2D(esqueleto_pot,-1,filter_sum1)\n",
    "\n",
    "esqueleto_bi = cv.threshold(esqueleto,25,255,cv.THRESH_BINARY)[1]\n",
    "esqueleto_bi2 = cv.threshold(esqueleto,15,255,cv.THRESH_BINARY)[1]\n",
    "\n",
    "fig,ax = plt.subplots(3,figsize=(25,25))\n",
    "ax[0].imshow(esqueleto,cmap=\"gray\",vmin=0,vmax=255)\n",
    "ax[1].imshow(esqueleto_log,cmap=\"gray\",vmin=0,vmax=255)\n",
    "ax[2].imshow(esqueleto_bi2,cmap=\"gray\",vmin=0,vmax=255)\n",
    "plt.show()"
   ]
  },
  {
   "cell_type": "code",
   "execution_count": null,
   "metadata": {},
   "outputs": [],
   "source": [
    "\n",
    "import numpy as np\n",
    "import cv2 as cv\n",
    "from matplotlib import pyplot as plt\n",
    "borroneado = cv.imread(\"imagenes/borroneado.png\",cv.IMREAD_GRAYSCALE)\n",
    "mapeo_potencia = trans_potencia(3.5)\n",
    "mapeo_log = trans_log()\n",
    "borroneado_pb = cv.boxFilter(borroneado,-1,(7,7))\n",
    "borroneado_ha =1.9*borroneado - borroneado_pb\n",
    "# borroneado_ha = np.where(borroneado_ha<80,mapeo_potencia[borroneado],borroneado)\n",
    "\n",
    "fig,ax = plt.subplots(2,2,figsize=(25,25))\n",
    "ax[0,0].imshow(borroneado,cmap=\"gray\",vmin=0,vmax=255)\n",
    "ax[1,0].imshow(borroneado_ha,cmap=\"gray\",vmin=0,vmax=255)\n",
    "ax[0,1].hist(borroneado.ravel(),256,[0,256])\n",
    "ax[1,1].hist(borroneado_ha.ravel(),256,[0,256])\n",
    "plt.show()"
   ]
  }
 ],
 "metadata": {
  "kernelspec": {
   "display_name": "pdi",
   "language": "python",
   "name": "python3"
  },
  "language_info": {
   "codemirror_mode": {
    "name": "ipython",
    "version": 3
   },
   "file_extension": ".py",
   "mimetype": "text/x-python",
   "name": "python",
   "nbconvert_exporter": "python",
   "pygments_lexer": "ipython3",
   "version": "3.11.0"
  },
  "orig_nbformat": 4
 },
 "nbformat": 4,
 "nbformat_minor": 2
}
